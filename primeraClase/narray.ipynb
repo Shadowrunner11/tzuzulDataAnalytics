{
 "cells": [
  {
   "cell_type": "markdown",
   "metadata": {},
   "source": [
    "# NDARRAY\n",
    "\n",
    "ndArray -> Una coleccion de elementos del mismo tipo ordenados y no son extensibles"
   ]
  },
  {
   "cell_type": "markdown",
   "metadata": {},
   "source": [
    "importamos numpy"
   ]
  },
  {
   "cell_type": "code",
   "execution_count": 2,
   "metadata": {},
   "outputs": [],
   "source": [
    "import numpy as np"
   ]
  },
  {
   "cell_type": "markdown",
   "metadata": {},
   "source": [
    "Creando un ndArray, este es un objeto que le pertence a numpy"
   ]
  },
  {
   "cell_type": "code",
   "execution_count": 3,
   "metadata": {},
   "outputs": [
    {
     "name": "stdout",
     "output_type": "stream",
     "text": [
      "[1 2 3 4 5 6]\n",
      "El tipo de array es  <class 'numpy.ndarray'>\n"
     ]
    }
   ],
   "source": [
    "arrayA = np.array([1, 2, 3, 4, 5, 6])\n",
    "\n",
    "print(arrayA)\n",
    "print('El tipo de array es ', type(arrayA))"
   ]
  },
  {
   "cell_type": "markdown",
   "metadata": {},
   "source": [
    "Otra forma de crear ndArrays es con tuplas"
   ]
  },
  {
   "cell_type": "code",
   "execution_count": 4,
   "metadata": {},
   "outputs": [
    {
     "name": "stdout",
     "output_type": "stream",
     "text": [
      "[1 2 3 4 5 6]\n"
     ]
    }
   ],
   "source": [
    "arrayB = np.array((1, 2, 3, 4, 5, 6))\n",
    "\n",
    "print(arrayB)"
   ]
  },
  {
   "cell_type": "markdown",
   "metadata": {},
   "source": [
    "Todos los elementos de un ndarray tienen que ser del mismo tipo"
   ]
  },
  {
   "cell_type": "code",
   "execution_count": 4,
   "metadata": {},
   "outputs": [
    {
     "data": {
      "text/plain": [
       "array([1, 2, 3, 4, 1], dtype=int32)"
      ]
     },
     "execution_count": 4,
     "metadata": {},
     "output_type": "execute_result"
    }
   ],
   "source": [
    "np.array([1, 2, 3, \"4\", 1.5], np.int32)"
   ]
  },
  {
   "cell_type": "code",
   "execution_count": 18,
   "metadata": {},
   "outputs": [
    {
     "name": "stdout",
     "output_type": "stream",
     "text": [
      "array 1 dimension\n",
      "total de elementos 5\n",
      "(5,)\n",
      "int64\n",
      "1\n"
     ]
    }
   ],
   "source": [
    "array_1dimension = np.array([1,2,3,4,5])\n",
    "print('array 1 dimension')\n",
    "print('total de elementos',array_1dimension.size)\n",
    "print(array_1dimension.shape)\n",
    "print(array_1dimension.dtype)\n",
    "print(array_1dimension.ndim)"
   ]
  },
  {
   "cell_type": "code",
   "execution_count": 20,
   "metadata": {},
   "outputs": [
    {
     "name": "stdout",
     "output_type": "stream",
     "text": [
      "array 2 dimensiones\n",
      "total de elementos 6\n",
      "fila columna (2, 3)\n",
      "int64\n",
      "2\n"
     ]
    }
   ],
   "source": [
    "array_2dimension = np.array([\n",
    "  [2, 3, 4],\n",
    "  [4, 5, 9]\n",
    "])\n",
    "print('array 2 dimensiones')\n",
    "print('total de elementos',array_2dimension.size)\n",
    "print('fila columna', array_2dimension.shape)\n",
    "print(array_2dimension.dtype)\n",
    "print(array_2dimension.ndim)"
   ]
  },
  {
   "cell_type": "code",
   "execution_count": 22,
   "metadata": {},
   "outputs": [
    {
     "name": "stdout",
     "output_type": "stream",
     "text": [
      "array 3 dimensiones\n",
      "total de elementos 12\n",
      "(2, 3, 2)\n",
      "int64\n",
      "3\n"
     ]
    }
   ],
   "source": [
    "array_3dimension = np.array([\n",
    "  [[2, 3], [3, 5], [4, 6]],\n",
    "  [[4, 4], [5, 9], [9, 11]]\n",
    "])\n",
    "print('array 3 dimensiones')\n",
    "print('total de elementos',array_3dimension.size)\n",
    "print(array_3dimension.shape)\n",
    "print(array_3dimension.dtype)\n",
    "print(array_3dimension.ndim)"
   ]
  }
 ],
 "metadata": {
  "kernelspec": {
   "display_name": "Python 3.8.10 ('tzuzulcodedataanalytics-GH1usiHi-py3.8': poetry)",
   "language": "python",
   "name": "python3"
  },
  "language_info": {
   "codemirror_mode": {
    "name": "ipython",
    "version": 3
   },
   "file_extension": ".py",
   "mimetype": "text/x-python",
   "name": "python",
   "nbconvert_exporter": "python",
   "pygments_lexer": "ipython3",
   "version": "3.8.10"
  },
  "orig_nbformat": 4,
  "vscode": {
   "interpreter": {
    "hash": "e060755a04d774ebb320dd489a3fdd7d5297cb6e67f2e3ddb28f43345b4aba7a"
   }
  }
 },
 "nbformat": 4,
 "nbformat_minor": 2
}
