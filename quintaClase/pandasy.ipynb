{
 "cells": [
  {
   "cell_type": "markdown",
   "metadata": {},
   "source": [
    "# PANDAS"
   ]
  },
  {
   "cell_type": "code",
   "execution_count": 4,
   "metadata": {},
   "outputs": [
    {
     "name": "stdout",
     "output_type": "stream",
     "text": [
      "[ 12  13 -90   3]\n"
     ]
    },
    {
     "data": {
      "text/plain": [
       "0    12\n",
       "1    13\n",
       "2   -90\n",
       "3     3\n",
       "dtype: int64"
      ]
     },
     "execution_count": 4,
     "metadata": {},
     "output_type": "execute_result"
    }
   ],
   "source": [
    "import pandas as pd\n",
    "import numpy as np\n",
    "\n",
    "print(np.array([12, 13, -90, 3]))\n",
    "\n",
    "serie = pd.Series([12, 13, -90, 3])\n",
    "serie"
   ]
  },
  {
   "cell_type": "code",
   "execution_count": 10,
   "metadata": {},
   "outputs": [
    {
     "data": {
      "text/plain": [
       "a    12\n",
       "1     3\n",
       "c    -9\n",
       "d    16\n",
       "dtype: int64"
      ]
     },
     "execution_count": 10,
     "metadata": {},
     "output_type": "execute_result"
    }
   ],
   "source": [
    "serie_a =  pd.Series([12,3,-9, 16], index=['a', 'b', 'c', 'd'])\n",
    "\n",
    "serie_a"
   ]
  },
  {
   "cell_type": "code",
   "execution_count": 8,
   "metadata": {},
   "outputs": [
    {
     "data": {
      "text/plain": [
       "Index(['a', 'b', 'c', 'd'], dtype='object')"
      ]
     },
     "execution_count": 8,
     "metadata": {},
     "output_type": "execute_result"
    }
   ],
   "source": [
    "serie_a.index"
   ]
  },
  {
   "cell_type": "code",
   "execution_count": 9,
   "metadata": {},
   "outputs": [
    {
     "data": {
      "text/plain": [
       "array([12,  3, -9, 16])"
      ]
     },
     "execution_count": 9,
     "metadata": {},
     "output_type": "execute_result"
    }
   ],
   "source": [
    "serie_a.values"
   ]
  },
  {
   "cell_type": "code",
   "execution_count": 11,
   "metadata": {},
   "outputs": [
    {
     "name": "stdout",
     "output_type": "stream",
     "text": [
      "2\n",
      "1\n"
     ]
    }
   ],
   "source": [
    "serie_1 = pd.Series([1,2,3,56,7])\n",
    "\n",
    "serie_2 = pd.Series([1,5,-32,3], index=['a', 'b', 'c', 'd'])\n",
    "\n",
    "print(serie_1[1]) # -> 2\n",
    "\n",
    "print(serie_2['a']) # ->1 \n"
   ]
  },
  {
   "cell_type": "code",
   "execution_count": 14,
   "metadata": {},
   "outputs": [
    {
     "name": "stdout",
     "output_type": "stream",
     "text": [
      "0    20\n",
      "1    10\n",
      "2    45\n",
      "3    12\n",
      "4     3\n",
      "5     6\n",
      "dtype: int64\n",
      "frecuencias mayores a 10\n",
      "0    20\n",
      "2    45\n",
      "3    12\n",
      "dtype: int64\n"
     ]
    }
   ],
   "source": [
    "tabla_hijos = pd.Series([20, 10, 45, 12, 3, 6])\n",
    "\n",
    "print(tabla_hijos)\n",
    "\n",
    "print('frecuencias mayores a 10')\n",
    "\n",
    "filtrado = tabla_hijos[ tabla_hijos > 10 ]\n",
    "print(filtrado)"
   ]
  },
  {
   "cell_type": "markdown",
   "metadata": {},
   "source": [
    "Hallar la media aritmetica de \n",
    "\n",
    "|xi|fi|\n",
    "|---|---|\n",
    "|1|10|\n",
    "|2|20|\n",
    "|3|10|\n",
    "|4|1|\n",
    "|5|1|"
   ]
  },
  {
   "cell_type": "code",
   "execution_count": 18,
   "metadata": {},
   "outputs": [
    {
     "name": "stdout",
     "output_type": "stream",
     "text": [
      "tabla\n",
      "1    10\n",
      "2    20\n",
      "3    10\n",
      "4     1\n",
      "5     1\n",
      "dtype: int64\n",
      "la frecuencia total es 42\n",
      "los productos parciales son Int64Index([10, 40, 30, 4, 5], dtype='int64')\n",
      "la suma de productos es 89\n",
      "la media aritmetica es  2.119047619047619\n"
     ]
    }
   ],
   "source": [
    "data = pd.Series([10,20,10,1,1], index = range(1, 6))\n",
    "print('tabla')\n",
    "print(data)\n",
    "\n",
    "columna_familias = data.values # Recordar que los valores es la segunda columna y es un ndArray\n",
    "total_familias = columna_familias.sum()\n",
    "\n",
    "print('la frecuencia total es', total_familias)\n",
    "\n",
    "cantidad_hijos = data.index\n",
    "\n",
    "productos = cantidad_hijos * columna_familias\n",
    "\n",
    "sum_productos = np.array(productos).sum()\n",
    "\n",
    "print('los productos parciales son', productos)\n",
    "\n",
    "print('la suma de productos es', sum_productos)\n",
    "\n",
    "print('la media aritmetica es ', sum_productos/total_familias)\n"
   ]
  },
  {
   "cell_type": "code",
   "execution_count": null,
   "metadata": {},
   "outputs": [],
   "source": []
  }
 ],
 "metadata": {
  "kernelspec": {
   "display_name": "Python 3.8.10 ('tzuzulcodedataanalytics-GH1usiHi-py3.8': poetry)",
   "language": "python",
   "name": "python3"
  },
  "language_info": {
   "codemirror_mode": {
    "name": "ipython",
    "version": 3
   },
   "file_extension": ".py",
   "mimetype": "text/x-python",
   "name": "python",
   "nbconvert_exporter": "python",
   "pygments_lexer": "ipython3",
   "version": "3.8.10"
  },
  "orig_nbformat": 4,
  "vscode": {
   "interpreter": {
    "hash": "e060755a04d774ebb320dd489a3fdd7d5297cb6e67f2e3ddb28f43345b4aba7a"
   }
  }
 },
 "nbformat": 4,
 "nbformat_minor": 2
}
