{
 "cells": [
  {
   "cell_type": "markdown",
   "metadata": {},
   "source": [
    "## CSV"
   ]
  },
  {
   "cell_type": "code",
   "execution_count": 2,
   "metadata": {},
   "outputs": [],
   "source": [
    "import numpy as np"
   ]
  },
  {
   "cell_type": "code",
   "execution_count": 28,
   "metadata": {},
   "outputs": [
    {
     "data": {
      "text/plain": [
       "array([(12341324, 25, 1), (34565678, 23, 1), (32453245, 30, 0)],\n",
       "      dtype=[('id', '<i8'), ('age', '<i8'), ('isVaccinated', '<i8')])"
      ]
     },
     "execution_count": 28,
     "metadata": {},
     "output_type": "execute_result"
    }
   ],
   "source": [
    "# ruta del archivo, delimiter= ',' es el separador, \n",
    "# name=True significa que hay una fila que funciona como columnas\n",
    "np.genfromtxt('example.csv', delimiter=',', names=True, dtype=None)"
   ]
  },
  {
   "cell_type": "code",
   "execution_count": 29,
   "metadata": {},
   "outputs": [
    {
     "data": {
      "text/plain": [
       "array([12341324, 34565678, 32453245])"
      ]
     },
     "execution_count": 29,
     "metadata": {},
     "output_type": "execute_result"
    }
   ],
   "source": [
    "data_set = np.genfromtxt('example.csv', delimiter=',', names=True, dtype=None)\n",
    "\n",
    "data_set['id']"
   ]
  },
  {
   "cell_type": "code",
   "execution_count": 10,
   "metadata": {},
   "outputs": [
    {
     "data": {
      "text/plain": [
       "array([25., 23., 30.])"
      ]
     },
     "execution_count": 10,
     "metadata": {},
     "output_type": "execute_result"
    }
   ],
   "source": [
    "data_set['age']"
   ]
  },
  {
   "cell_type": "markdown",
   "metadata": {},
   "source": [
    "Hallar la edad promedio\n",
    "\n",
    "Hallar cuantos vacunados hay en el data_set"
   ]
  },
  {
   "cell_type": "code",
   "execution_count": 15,
   "metadata": {},
   "outputs": [
    {
     "name": "stdout",
     "output_type": "stream",
     "text": [
      "[25. 23. 30.]\n",
      "26.0\n"
     ]
    }
   ],
   "source": [
    "# Hallamos la edad promedio\n",
    "\n",
    "edades = data_set['age']\n",
    "\n",
    "print(edades)\n",
    "\n",
    "promedio = edades.mean()\n",
    "\n",
    "print(promedio)"
   ]
  },
  {
   "cell_type": "code",
   "execution_count": 24,
   "metadata": {},
   "outputs": [
    {
     "name": "stdout",
     "output_type": "stream",
     "text": [
      "[ True  True False]\n"
     ]
    },
    {
     "data": {
      "text/plain": [
       "2"
      ]
     },
     "execution_count": 24,
     "metadata": {},
     "output_type": "execute_result"
    }
   ],
   "source": [
    "# Hallar la cantidad de vacunados\n",
    "\n",
    "# 1 -> estar vacunado\n",
    "# 0 -> no vacunado\n",
    "\n",
    "data_vacunados = data_set['isVaccinated']  == 1\n",
    "\n",
    "print(data_vacunados)\n",
    "\n",
    "np.count_nonzero(data_vacunados)\n"
   ]
  },
  {
   "cell_type": "code",
   "execution_count": 19,
   "metadata": {},
   "outputs": [
    {
     "data": {
      "text/plain": [
       "2"
      ]
     },
     "execution_count": 19,
     "metadata": {},
     "output_type": "execute_result"
    }
   ],
   "source": [
    "np.count_nonzero(data_set['isVaccinated'])"
   ]
  },
  {
   "cell_type": "code",
   "execution_count": 3,
   "metadata": {},
   "outputs": [
    {
     "data": {
      "text/plain": [
       "array([b'2021/01/03', b'2020/12/28', b'2020/10/16'], dtype=object)"
      ]
     },
     "execution_count": 3,
     "metadata": {},
     "output_type": "execute_result"
    }
   ],
   "source": [
    "health_covid = np.genfromtxt(\n",
    "  'COVID-19_Reported_Patient_Impact_and_Hospital_Capacity_by_State_Timeseries.csv',\n",
    "  delimiter=',',\n",
    "  names=True,\n",
    "  dtype= np.object_,\n",
    "  max_rows=3\n",
    ")\n",
    "\n",
    "health_covid['date']"
   ]
  }
 ],
 "metadata": {
  "kernelspec": {
   "display_name": "Python 3.8.10 ('tzuzulcodedataanalytics-GH1usiHi-py3.8': poetry)",
   "language": "python",
   "name": "python3"
  },
  "language_info": {
   "codemirror_mode": {
    "name": "ipython",
    "version": 3
   },
   "file_extension": ".py",
   "mimetype": "text/x-python",
   "name": "python",
   "nbconvert_exporter": "python",
   "pygments_lexer": "ipython3",
   "version": "3.8.10"
  },
  "orig_nbformat": 4,
  "vscode": {
   "interpreter": {
    "hash": "e060755a04d774ebb320dd489a3fdd7d5297cb6e67f2e3ddb28f43345b4aba7a"
   }
  }
 },
 "nbformat": 4,
 "nbformat_minor": 2
}
