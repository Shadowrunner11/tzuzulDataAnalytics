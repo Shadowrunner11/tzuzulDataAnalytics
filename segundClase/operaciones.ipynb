{
 "cells": [
  {
   "cell_type": "markdown",
   "metadata": {},
   "source": [
    "# Operaciones con escalares\n",
    "---"
   ]
  },
  {
   "cell_type": "markdown",
   "metadata": {},
   "source": [
    "## Acceso y mutabilidad"
   ]
  },
  {
   "cell_type": "code",
   "execution_count": 2,
   "metadata": {},
   "outputs": [],
   "source": [
    "import numpy as np"
   ]
  },
  {
   "cell_type": "code",
   "execution_count": 7,
   "metadata": {},
   "outputs": [
    {
     "name": "stdout",
     "output_type": "stream",
     "text": [
      "4\n",
      "8\n",
      "[2 3]\n",
      "[1 3 5 7]\n"
     ]
    }
   ],
   "source": [
    "vector1 = np.array([1, 2, 3, 4, 5, 6, 7, 8])\n",
    "\n",
    "# accediendo a un elemento por su indice\n",
    "print(vector1[3])\n",
    "\n",
    "# accediendo por su posicion de izqquierda a derecha\n",
    "print(vector1[-1])\n",
    "\n",
    "# slicing\n",
    "print(vector1[1:3])\n",
    "\n",
    "# slicing con step\n",
    "print(vector1[0::2])"
   ]
  },
  {
   "cell_type": "code",
   "execution_count": 10,
   "metadata": {},
   "outputs": [
    {
     "name": "stdout",
     "output_type": "stream",
     "text": [
      "[5 6 7 8 9]\n",
      "1\n",
      "4\n"
     ]
    }
   ],
   "source": [
    "matriz = np.array([\n",
    "  [1,2,3,4,5],\n",
    "  [5,6,7,8,9]\n",
    "])\n",
    "\n",
    "print(matriz[1])\n",
    "print(matriz[0, 0])\n",
    "print(matriz[0, 3])"
   ]
  },
  {
   "cell_type": "code",
   "execution_count": 16,
   "metadata": {},
   "outputs": [
    {
     "name": "stdout",
     "output_type": "stream",
     "text": [
      "6\n"
     ]
    }
   ],
   "source": [
    "array_3dimension = np.array([\n",
    "  [[1,2,3], [4,5,6]],\n",
    "  [[1,4,7], [9,1,5]]\n",
    "])\n",
    "\n",
    "print(array_3dimension[0, 1, 2])"
   ]
  },
  {
   "cell_type": "code",
   "execution_count": 19,
   "metadata": {},
   "outputs": [
    {
     "name": "stdout",
     "output_type": "stream",
     "text": [
      "[ 1  2 20  4  5]\n",
      "[ 1  2 20  4  5]\n"
     ]
    }
   ],
   "source": [
    "arrayA = np.array([1,2,3,4,5])\n",
    "\n",
    "# arrayB es otro identificador de arrayA y por lo tanto apunta al mismo objeto\n",
    "arrayB = arrayA\n",
    "\n",
    "arrayA[2] = 20\n",
    "print(arrayA)\n",
    "print(arrayB)"
   ]
  },
  {
   "cell_type": "code",
   "execution_count": 20,
   "metadata": {},
   "outputs": [
    {
     "name": "stdout",
     "output_type": "stream",
     "text": [
      "[ 1  2 20  4 30]\n",
      "[ 1  2 20  4 30]\n"
     ]
    }
   ],
   "source": [
    "arrayB[-1] = 30\n",
    "\n",
    "print(arrayB)\n",
    "print(arrayA)"
   ]
  },
  {
   "cell_type": "markdown",
   "metadata": {},
   "source": [
    "# Operaciones"
   ]
  },
  {
   "cell_type": "markdown",
   "metadata": {},
   "source": [
    "Adicion"
   ]
  },
  {
   "cell_type": "code",
   "execution_count": 22,
   "metadata": {},
   "outputs": [
    {
     "name": "stdout",
     "output_type": "stream",
     "text": [
      "[1 2 3 4 5 6 7 8]\n",
      "[ 5  6  7  8  9 10 11 12]\n",
      "[1 2 3 4 5 6 7 8]\n"
     ]
    }
   ],
   "source": [
    "print(vector1)\n",
    "print(vector1+4)\n",
    "print(vector1)"
   ]
  },
  {
   "cell_type": "markdown",
   "metadata": {},
   "source": [
    "Multiplicacion"
   ]
  },
  {
   "cell_type": "code",
   "execution_count": 23,
   "metadata": {},
   "outputs": [
    {
     "name": "stdout",
     "output_type": "stream",
     "text": [
      "[1 2 3 4 5 6 7 8]\n",
      "[ 3  6  9 12 15 18 21 24]\n"
     ]
    }
   ],
   "source": [
    "print(vector1)\n",
    "print(3*vector1)"
   ]
  },
  {
   "cell_type": "code",
   "execution_count": 24,
   "metadata": {},
   "outputs": [
    {
     "name": "stdout",
     "output_type": "stream",
     "text": [
      "[ 2  3  4  5  6 50]\n",
      "[2 3 4 5 6 7]\n"
     ]
    }
   ],
   "source": [
    "array_to_copy = np.array([2,3,4,5,6,7])\n",
    "copied_array = 1*array_to_copy\n",
    "\n",
    "array_to_copy[-1] = 50\n",
    "\n",
    "print(array_to_copy)\n",
    "print(copied_array)"
   ]
  },
  {
   "cell_type": "code",
   "execution_count": 25,
   "metadata": {},
   "outputs": [
    {
     "name": "stdout",
     "output_type": "stream",
     "text": [
      "[2 3 4 5 6 7]\n",
      "[ 2  3  4  5  6 50]\n"
     ]
    }
   ],
   "source": [
    "array_to_copy_2 = np.array([2,3,4,5,6,7])\n",
    "copied_array_2 = array_to_copy.copy()\n",
    "\n",
    "array_to_copy[-1] = 50\n",
    "\n",
    "print(array_to_copy_2)\n",
    "print(copied_array_2)\n"
   ]
  },
  {
   "cell_type": "markdown",
   "metadata": {},
   "source": []
  }
 ],
 "metadata": {
  "kernelspec": {
   "display_name": "Python 3.8.10 ('tzuzulcodedataanalytics-GH1usiHi-py3.8': poetry)",
   "language": "python",
   "name": "python3"
  },
  "language_info": {
   "codemirror_mode": {
    "name": "ipython",
    "version": 3
   },
   "file_extension": ".py",
   "mimetype": "text/x-python",
   "name": "python",
   "nbconvert_exporter": "python",
   "pygments_lexer": "ipython3",
   "version": "3.8.10"
  },
  "orig_nbformat": 4,
  "vscode": {
   "interpreter": {
    "hash": "e060755a04d774ebb320dd489a3fdd7d5297cb6e67f2e3ddb28f43345b4aba7a"
   }
  }
 },
 "nbformat": 4,
 "nbformat_minor": 2
}
